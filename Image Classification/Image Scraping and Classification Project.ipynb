{
 "cells": [
  {
   "cell_type": "code",
   "execution_count": 23,
   "metadata": {},
   "outputs": [
    {
     "name": "stdout",
     "output_type": "stream",
     "text": [
      "Requirement already satisfied: mechanicalsoup in c:\\programdata\\anaconda3\\lib\\site-packages (1.1.0)\n",
      "Requirement already satisfied: requests>=2.22.0 in c:\\programdata\\anaconda3\\lib\\site-packages (from mechanicalsoup) (2.24.0)\n",
      "Requirement already satisfied: beautifulsoup4>=4.7 in c:\\programdata\\anaconda3\\lib\\site-packages (from mechanicalsoup) (4.9.1)\n",
      "Requirement already satisfied: lxml in c:\\programdata\\anaconda3\\lib\\site-packages (from mechanicalsoup) (4.5.2)\n",
      "Requirement already satisfied: idna<3,>=2.5 in c:\\programdata\\anaconda3\\lib\\site-packages (from requests>=2.22.0->mechanicalsoup) (2.10)\n",
      "Requirement already satisfied: certifi>=2017.4.17 in c:\\programdata\\anaconda3\\lib\\site-packages (from requests>=2.22.0->mechanicalsoup) (2020.6.20)\n",
      "Requirement already satisfied: chardet<4,>=3.0.2 in c:\\programdata\\anaconda3\\lib\\site-packages (from requests>=2.22.0->mechanicalsoup) (3.0.4)\n",
      "Requirement already satisfied: urllib3!=1.25.0,!=1.25.1,<1.26,>=1.21.1 in c:\\programdata\\anaconda3\\lib\\site-packages (from requests>=2.22.0->mechanicalsoup) (1.25.9)\n",
      "Requirement already satisfied: soupsieve>1.2 in c:\\programdata\\anaconda3\\lib\\site-packages (from beautifulsoup4>=4.7->mechanicalsoup) (2.0.1)\n"
     ]
    }
   ],
   "source": [
    "!pip install mechanicalsoup"
   ]
  },
  {
   "cell_type": "code",
   "execution_count": 24,
   "metadata": {},
   "outputs": [
    {
     "name": "stdout",
     "output_type": "stream",
     "text": [
      "https://www.google.com/imghp?hl=en\n"
     ]
    }
   ],
   "source": [
    "import mechanicalsoup\n",
    "\n",
    "browser = mechanicalsoup.StatefulBrowser()\n",
    "url=\"https://www.google.com/imghp?hl=en\"\n",
    "\n",
    "browser.open(url)\n",
    "print(browser.get_url())"
   ]
  },
  {
   "cell_type": "code",
   "execution_count": 25,
   "metadata": {},
   "outputs": [
    {
     "name": "stdout",
     "output_type": "stream",
     "text": [
      "<input name=\"tbm\" type=\"hidden\" value=\"isch\"/>\n",
      "<input name=\"ie\" type=\"hidden\" value=\"ISO-8859-1\"/>\n",
      "<input name=\"hl\" type=\"hidden\" value=\"en-IN\"/>\n",
      "<input name=\"source\" type=\"hidden\" value=\"hp\"/>\n",
      "<input name=\"biw\" type=\"hidden\"/>\n",
      "<input name=\"bih\" type=\"hidden\"/>\n",
      "<input autocomplete=\"off\" class=\"lst\" maxlength=\"2048\" name=\"q\" size=\"57\" style=\"margin:0;padding:5px 8px 0 6px;vertical-align:top;color:#000\" title=\"Search Images\" value=\"\"/>\n",
      "<input class=\"lsb\" name=\"btnG\" type=\"submit\" value=\"Search Images\"/>\n",
      "<input id=\"gbv\" name=\"gbv\" type=\"hidden\" value=\"1\"/>\n",
      "new url: https://www.google.com/search?tbm=isch&ie=ISO-8859-1&hl=en-IN&source=hp&biw=&bih=&q=Saree&btnG=Search+Images&gbv=1\n",
      "my response:\n",
      " <!DOCTYPE html PUBLIC \"-//WAPFORUM//DTD XHTML Mobile 1.0//EN\" \"http://www.wapforum.org/DTD/xhtml-mobile10.dtd\"><html xmlns=\"http://www.w3.org/1999/xhtml\" lang=\"en-IN\"><head><meta content=\"application/xhtml+xml; charset=UTF-8\" http-equiv=\"Content-Type\"/><meta content=\"no-cache\" name=\"Cache-Control\"/><title>Saree - Google Search</title><style>a{text-decoration:none;color:inherit}a:hover{text-decoration:underline}a img{border:0}body{font-family:Roboto,Helvetica,Arial,sans-serif;padding:8px;margin:0\n"
     ]
    }
   ],
   "source": [
    "#get HTML\n",
    "browser.get_current_page()\n",
    "\n",
    "#target the search input\n",
    "browser.select_form()\n",
    "browser.get_current_form().print_summary()\n",
    "\n",
    "#search for a term\n",
    "search_term='Saree'\n",
    "browser[\"q\"]=search_term\n",
    "\n",
    "#submit/\"click\"search\n",
    "browser.launch_browser()\n",
    "response=browser.submit_selected()\n",
    "\n",
    "print('new url:',browser.get_url())\n",
    "print('my response:\\n',response.text[:500])"
   ]
  },
  {
   "cell_type": "code",
   "execution_count": 26,
   "metadata": {},
   "outputs": [
    {
     "data": {
      "text/plain": [
       "['/images/branding/searchlogo/1x/googlelogo_desk_heirloom_color_150x55dp.gif',\n",
       " 'https://encrypted-tbn0.gstatic.com/images?q=tbn:ANd9GcR1Wr3ITRUsNCTs_Pm7WL2u1EZMBpvb2sSgnbvPFMALxDiyQ5ux2fQSDegyerw&s',\n",
       " 'https://encrypted-tbn0.gstatic.com/images?q=tbn:ANd9GcRxbvzMessDF6nkn5PywVyLJu_pOpRxGTTrVwtXNGn05lYWQCn3K0F87GBLNOk&s',\n",
       " 'https://encrypted-tbn0.gstatic.com/images?q=tbn:ANd9GcQzDadBIAkOPfda94v9M9SG9P2n6nkWD83EMYVI6BH2cf3Rox-_va2j8GV4CQ&s',\n",
       " 'https://encrypted-tbn0.gstatic.com/images?q=tbn:ANd9GcQjh6xIw__KGME0pjBbLh2mxLqY727v_BcJDYl3B2_1gI5UkThnQ64R3dMehSk&s',\n",
       " 'https://encrypted-tbn0.gstatic.com/images?q=tbn:ANd9GcQQrrzh1Lgv9sxwSMKrDbtc2VYhLrVAMaZqOKwXCpEY3mzQIs7BUQYcd5Yi8Q&s',\n",
       " 'https://encrypted-tbn0.gstatic.com/images?q=tbn:ANd9GcTZta4TY5bVvsEV-CCXJCWprrksqoFJXFwc8lqDG9U8VWw_2-35A34KKwMhiA&s',\n",
       " 'https://encrypted-tbn0.gstatic.com/images?q=tbn:ANd9GcQNxRXjNI-103o2q5sIO5e9wsllxrLa0OsocR1n2AfOuLthzfx6DFwIxcYbcA&s',\n",
       " 'https://encrypted-tbn0.gstatic.com/images?q=tbn:ANd9GcQhpYm-janG7C8WwMrSJAuBnSbr7OLDac8YquPtcmqgI9jVzOUGZ8iKuJ8cuJs&s',\n",
       " 'https://encrypted-tbn0.gstatic.com/images?q=tbn:ANd9GcTlFGnz_XTpTWPA_qwbBIO7q1e6XttEYnaCsw-b8QQhgQwM0AAtm3T74yj1LQ&s',\n",
       " 'https://encrypted-tbn0.gstatic.com/images?q=tbn:ANd9GcTw1dlQSWclfeoHITj96zi468_YTEfZk9IZzHemwx8xu09tZyKsQDou--xJDvc&s',\n",
       " 'https://encrypted-tbn0.gstatic.com/images?q=tbn:ANd9GcQ37gbXW4WCqMc_1wGHt78RKZne-vRA_kPGmPOWyEfHweWjgmlNQSjR-D2giCo&s',\n",
       " 'https://encrypted-tbn0.gstatic.com/images?q=tbn:ANd9GcT_PdE_8dinfr90FO3IZKqAJqUnDQ55Y-AhmhkUaURRjbs8TnD55vedXxsZFwY&s',\n",
       " 'https://encrypted-tbn0.gstatic.com/images?q=tbn:ANd9GcRukdxvYfGOS4cwmV0e3oo4Dtt3iuonZmMWjzwY5jyIhhsJS4sGvbBtkvMOog&s',\n",
       " 'https://encrypted-tbn0.gstatic.com/images?q=tbn:ANd9GcRrK9MIIMO2pI3HsSXS8JgbG7M-2cgGiqx77HUlsOKEDurhPb4v4dxk5GPjWmE&s',\n",
       " 'https://encrypted-tbn0.gstatic.com/images?q=tbn:ANd9GcSMIH6GyTsauJDDs7NXrxmR4SHxWMLmM-NRPRCdWjXin_d87-ieIaezItoZICo&s',\n",
       " 'https://encrypted-tbn0.gstatic.com/images?q=tbn:ANd9GcQ7Q8HL7yOg7CZDw9rIXO-4KsXbd6Rgx3uEiwwTp801GUMZRWff_sbGB4GPjg&s',\n",
       " 'https://encrypted-tbn0.gstatic.com/images?q=tbn:ANd9GcRUBxEh-uWqmyWe6G8nUTA-ut9gAFCB_7ktxXqkjFpxLB3dveleYQRd8hHE8bs&s',\n",
       " 'https://encrypted-tbn0.gstatic.com/images?q=tbn:ANd9GcR8jMNKJSVJay6uLfwIMK_y3nxX2WSw2nZIMEKVoODmaLOoOG-wTl2yv46tlA&s',\n",
       " 'https://encrypted-tbn0.gstatic.com/images?q=tbn:ANd9GcTpjInxawkPqbHBoH6qBS7zDr9q-IZTL4BLqdYWiVJSVF1rIguO30c3-VkmtQ&s',\n",
       " 'https://encrypted-tbn0.gstatic.com/images?q=tbn:ANd9GcQi6x-sm3yp5j3lCtgGooSacmSZndQIt5x9UflR78mssNpjed6_FEbIiydWPcc&s']"
      ]
     },
     "execution_count": 26,
     "metadata": {},
     "output_type": "execute_result"
    }
   ],
   "source": [
    "#open new URL\n",
    "new_url=browser.get_url()\n",
    "browser.open(new_url)\n",
    "\n",
    "#get HTML\n",
    "page=browser.get_current_page()\n",
    "all_images=page.find_all('img')\n",
    "\n",
    "#target the source attribute\n",
    "image_source=[]\n",
    "for image in all_images:\n",
    "    image=image.get('src')\n",
    "    image_source.append(image)\n",
    "    \n",
    "image_source\n"
   ]
  },
  {
   "cell_type": "code",
   "execution_count": 27,
   "metadata": {},
   "outputs": [
    {
     "data": {
      "text/plain": [
       "['https://encrypted-tbn0.gstatic.com/images?q=tbn:ANd9GcR1Wr3ITRUsNCTs_Pm7WL2u1EZMBpvb2sSgnbvPFMALxDiyQ5ux2fQSDegyerw&s',\n",
       " 'https://encrypted-tbn0.gstatic.com/images?q=tbn:ANd9GcRxbvzMessDF6nkn5PywVyLJu_pOpRxGTTrVwtXNGn05lYWQCn3K0F87GBLNOk&s',\n",
       " 'https://encrypted-tbn0.gstatic.com/images?q=tbn:ANd9GcQzDadBIAkOPfda94v9M9SG9P2n6nkWD83EMYVI6BH2cf3Rox-_va2j8GV4CQ&s',\n",
       " 'https://encrypted-tbn0.gstatic.com/images?q=tbn:ANd9GcQjh6xIw__KGME0pjBbLh2mxLqY727v_BcJDYl3B2_1gI5UkThnQ64R3dMehSk&s',\n",
       " 'https://encrypted-tbn0.gstatic.com/images?q=tbn:ANd9GcQQrrzh1Lgv9sxwSMKrDbtc2VYhLrVAMaZqOKwXCpEY3mzQIs7BUQYcd5Yi8Q&s',\n",
       " 'https://encrypted-tbn0.gstatic.com/images?q=tbn:ANd9GcTZta4TY5bVvsEV-CCXJCWprrksqoFJXFwc8lqDG9U8VWw_2-35A34KKwMhiA&s',\n",
       " 'https://encrypted-tbn0.gstatic.com/images?q=tbn:ANd9GcQNxRXjNI-103o2q5sIO5e9wsllxrLa0OsocR1n2AfOuLthzfx6DFwIxcYbcA&s',\n",
       " 'https://encrypted-tbn0.gstatic.com/images?q=tbn:ANd9GcQhpYm-janG7C8WwMrSJAuBnSbr7OLDac8YquPtcmqgI9jVzOUGZ8iKuJ8cuJs&s',\n",
       " 'https://encrypted-tbn0.gstatic.com/images?q=tbn:ANd9GcTlFGnz_XTpTWPA_qwbBIO7q1e6XttEYnaCsw-b8QQhgQwM0AAtm3T74yj1LQ&s',\n",
       " 'https://encrypted-tbn0.gstatic.com/images?q=tbn:ANd9GcTw1dlQSWclfeoHITj96zi468_YTEfZk9IZzHemwx8xu09tZyKsQDou--xJDvc&s',\n",
       " 'https://encrypted-tbn0.gstatic.com/images?q=tbn:ANd9GcQ37gbXW4WCqMc_1wGHt78RKZne-vRA_kPGmPOWyEfHweWjgmlNQSjR-D2giCo&s',\n",
       " 'https://encrypted-tbn0.gstatic.com/images?q=tbn:ANd9GcT_PdE_8dinfr90FO3IZKqAJqUnDQ55Y-AhmhkUaURRjbs8TnD55vedXxsZFwY&s',\n",
       " 'https://encrypted-tbn0.gstatic.com/images?q=tbn:ANd9GcRukdxvYfGOS4cwmV0e3oo4Dtt3iuonZmMWjzwY5jyIhhsJS4sGvbBtkvMOog&s',\n",
       " 'https://encrypted-tbn0.gstatic.com/images?q=tbn:ANd9GcRrK9MIIMO2pI3HsSXS8JgbG7M-2cgGiqx77HUlsOKEDurhPb4v4dxk5GPjWmE&s',\n",
       " 'https://encrypted-tbn0.gstatic.com/images?q=tbn:ANd9GcSMIH6GyTsauJDDs7NXrxmR4SHxWMLmM-NRPRCdWjXin_d87-ieIaezItoZICo&s',\n",
       " 'https://encrypted-tbn0.gstatic.com/images?q=tbn:ANd9GcQ7Q8HL7yOg7CZDw9rIXO-4KsXbd6Rgx3uEiwwTp801GUMZRWff_sbGB4GPjg&s',\n",
       " 'https://encrypted-tbn0.gstatic.com/images?q=tbn:ANd9GcRUBxEh-uWqmyWe6G8nUTA-ut9gAFCB_7ktxXqkjFpxLB3dveleYQRd8hHE8bs&s',\n",
       " 'https://encrypted-tbn0.gstatic.com/images?q=tbn:ANd9GcR8jMNKJSVJay6uLfwIMK_y3nxX2WSw2nZIMEKVoODmaLOoOG-wTl2yv46tlA&s',\n",
       " 'https://encrypted-tbn0.gstatic.com/images?q=tbn:ANd9GcTpjInxawkPqbHBoH6qBS7zDr9q-IZTL4BLqdYWiVJSVF1rIguO30c3-VkmtQ&s',\n",
       " 'https://encrypted-tbn0.gstatic.com/images?q=tbn:ANd9GcQi6x-sm3yp5j3lCtgGooSacmSZndQIt5x9UflR78mssNpjed6_FEbIiydWPcc&s']"
      ]
     },
     "execution_count": 27,
     "metadata": {},
     "output_type": "execute_result"
    }
   ],
   "source": [
    "image_source=[image for image in image_source if image.startswith('https')]\n",
    "image_source"
   ]
  },
  {
   "cell_type": "code",
   "execution_count": 28,
   "metadata": {},
   "outputs": [
    {
     "data": {
      "text/plain": [
       "'C:\\\\Users\\\\Gautam\\\\Sarees'"
      ]
     },
     "execution_count": 28,
     "metadata": {},
     "output_type": "execute_result"
    }
   ],
   "source": [
    "import os\n",
    "import wget\n",
    "\n",
    "path=os.getcwd()\n",
    "path=os.path.join(path, search_term + \"s\")\n",
    "\n",
    "#create the directory\n",
    "os.mkdir(path)\n",
    "\n",
    "path"
   ]
  },
  {
   "cell_type": "code",
   "execution_count": 29,
   "metadata": {},
   "outputs": [],
   "source": [
    "#download images\n",
    "counter = 0\n",
    "for image in image_source:\n",
    "    save_as =os.path.join(path, search_term + str(counter) + '.jpg')\n",
    "    wget.download(image, save_as)\n",
    "    counter += 1"
   ]
  },
  {
   "cell_type": "code",
   "execution_count": null,
   "metadata": {},
   "outputs": [],
   "source": []
  },
  {
   "cell_type": "code",
   "execution_count": null,
   "metadata": {},
   "outputs": [],
   "source": []
  },
  {
   "cell_type": "code",
   "execution_count": null,
   "metadata": {},
   "outputs": [],
   "source": []
  }
 ],
 "metadata": {
  "kernelspec": {
   "display_name": "Python 3",
   "language": "python",
   "name": "python3"
  },
  "language_info": {
   "codemirror_mode": {
    "name": "ipython",
    "version": 3
   },
   "file_extension": ".py",
   "mimetype": "text/x-python",
   "name": "python",
   "nbconvert_exporter": "python",
   "pygments_lexer": "ipython3",
   "version": "3.8.3"
  }
 },
 "nbformat": 4,
 "nbformat_minor": 4
}
